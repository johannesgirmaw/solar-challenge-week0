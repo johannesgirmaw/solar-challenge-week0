{
 "cells": [
  {
   "cell_type": "markdown",
   "id": "db484c27",
   "metadata": {},
   "source": [
    "Task 3: Cross-Country Comparison\n",
    "\n",
    "Objective: Synthesize the cleaned datasets from Benin, Sierra Leone, and Togo to identify relative solar potential and key differences across countries.\n",
    "\n"
   ]
  },
  {
   "cell_type": "code",
   "execution_count": 22,
   "id": "27854fb0",
   "metadata": {},
   "outputs": [],
   "source": [
    "#Step 1: Import Libraries\n",
    "import os\n",
    "import sys\n",
    "import pandas as pd\n",
    "import numpy as np\n",
    "import matplotlib.pyplot as plt\n",
    "import seaborn as sns\n",
    "from scipy.stats import zscore\n"
   ]
  },
  {
   "cell_type": "code",
   "execution_count": null,
   "id": "8d5a5e7c",
   "metadata": {},
   "outputs": [],
   "source": [
    "class Config:\n",
    "    CLEAN_DATA_PATH_BENIN = \"../clean_data/benin_clean.csv\"\n",
    "    CLEAN_DATA_PATH_TOGO = \"../clean_data/togo_clean.csv\"\n",
    "    CLEAN_DATA_PATH_SIERRALONE = \"../clean_data/sierraleone_clean.csv\"\n",
    "    KEY_COLUMNS = ['GHI', 'DNI', 'DHI', 'ModA', 'ModB', 'WS', 'WSgust']\n",
    "    THRESHOLD = 0.05\n"
   ]
  },
  {
   "cell_type": "markdown",
   "id": "2805555d",
   "metadata": {},
   "source": [
    "Metric comparison\n",
    "- Load each country’s cleaned CSV (data/benin_clean.csv, etc.) locally.\n",
    "- Boxplots of GHI, DNI, DHI side-by-side (one plot per metric, colored by country).\n"
   ]
  },
  {
   "cell_type": "code",
   "execution_count": 24,
   "id": "90b84ccf",
   "metadata": {},
   "outputs": [],
   "source": [
    "class CleanedCountryDataLoader:\n",
    "    \"\"\"\n",
    "    Loads cleaned data files for multiple countries.\n",
    "    \"\"\"\n",
    "    def __init__(self, file_map: dict):\n",
    "        \"\"\"\n",
    "        file_map: Dict mapping country names to their file paths.\n",
    "        Example: {'Benin': 'data/benin_clean.csv', ...}\n",
    "        \"\"\"\n",
    "        self.file_map = file_map\n",
    "        self.country_dfs = {}\n",
    "\n",
    "    def load_data(self):\n",
    "        \"\"\"\n",
    "        Loads and validates datasets for each country.\n",
    "        \"\"\"\n",
    "        for country, path in self.file_map.items():\n",
    "            if not os.path.exists(path):\n",
    "                print(f\"File not found for {country}: {path}\")\n",
    "                continue\n",
    "\n",
    "            try:\n",
    "                df = pd.read_csv(path)\n",
    "                df['Country'] = country  # Add country label\n",
    "                self.country_dfs[country] = df\n",
    "            except Exception as e:\n",
    "                print(f\"Error loading {country} data: {e}\")\n",
    "\n",
    "        if not self.country_dfs:\n",
    "            raise ValueError(\"No datasets could be loaded.\")\n",
    "\n",
    "        return self.country_dfs\n",
    "\n",
    "    def get_combined_dataframe(self):\n",
    "        \"\"\"\n",
    "        Combines all loaded data into a single DataFrame for plotting.\n",
    "        \"\"\"\n",
    "        if not self.country_dfs:\n",
    "            raise ValueError(\"No data available. Did you call `load_data()`?\")\n",
    "        \n",
    "        return pd.concat(self.country_dfs.values(), ignore_index=True)\n",
    "\n",
    "\n",
    "class MetricBoxplotVisualizer:\n",
    "    \"\"\"\n",
    "    Handles visualization of solar metrics across countries.\n",
    "    \"\"\"\n",
    "    def __init__(self, df: pd.DataFrame, metrics=('GHI', 'DNI', 'DHI')):\n",
    "        self.df = df\n",
    "        self.metrics = metrics\n",
    "\n",
    "    def plot_boxplots(self):\n",
    "        \"\"\"\n",
    "        Creates boxplots for each metric by country.\n",
    "        \"\"\"\n",
    "        for metric in self.metrics:\n",
    "            if metric not in self.df.columns:\n",
    "                print(f\"Metric '{metric}' not found in data. Skipping.\")\n",
    "                continue\n",
    "\n",
    "            plt.figure(figsize=(7, 5))\n",
    "            sns.boxplot(data=self.df, x='Country', y=metric, palette='Set2')\n",
    "            plt.title(f\"Boxplot of {metric} by Country\")\n",
    "            plt.ylabel(f\"{metric} (W/m²)\")\n",
    "            plt.xlabel(\"Country\")\n",
    "            plt.grid(True)\n",
    "            plt.tight_layout()\n",
    "            plt.show()\n"
   ]
  },
  {
   "cell_type": "code",
   "execution_count": 25,
   "id": "fa69e27d",
   "metadata": {},
   "outputs": [
    {
     "name": "stderr",
     "output_type": "stream",
     "text": [
      "/tmp/ipykernel_7582/3720157527.py:62: FutureWarning: \n",
      "\n",
      "Passing `palette` without assigning `hue` is deprecated and will be removed in v0.14.0. Assign the `x` variable to `hue` and set `legend=False` for the same effect.\n",
      "\n",
      "  sns.boxplot(data=self.df, x='Country', y=metric, palette='Set2')\n"
     ]
    },
    {
     "data": {
      "image/png": "[encoded data removed]",
      "text/plain": [
       "<Figure size 700x500 with 1 Axes>"
      ]
     },
     "metadata": {},
     "output_type": "display_data"
    },
    {
     "name": "stderr",
     "output_type": "stream",
     "text": [
      "/tmp/ipykernel_7582/3720157527.py:62: FutureWarning: \n",
      "\n",
      "Passing `palette` without assigning `hue` is deprecated and will be removed in v0.14.0. Assign the `x` variable to `hue` and set `legend=False` for the same effect.\n",
      "\n",
      "  sns.boxplot(data=self.df, x='Country', y=metric, palette='Set2')\n"
     ]
    },
    {
     "data": {
      "image/png": "[encoded data removed]",
      "text/plain": [
       "<Figure size 700x500 with 1 Axes>"
      ]
     },
     "metadata": {},
     "output_type": "display_data"
    },
    {
     "name": "stderr",
     "output_type": "stream",
     "text": [
      "/tmp/ipykernel_7582/3720157527.py:62: FutureWarning: \n",
      "\n",
      "Passing `palette` without assigning `hue` is deprecated and will be removed in v0.14.0. Assign the `x` variable to `hue` and set `legend=False` for the same effect.\n",
      "\n",
      "  sns.boxplot(data=self.df, x='Country', y=metric, palette='Set2')\n"
     ]
    },
    {
     "data": {
      "image/png": "[encoded data removed]",
      "text/plain": [
       "<Figure size 700x500 with 1 Axes>"
      ]
     },
     "metadata": {},
     "output_type": "display_data"
    }
   ],
   "source": [
    "# Step 1: Map file paths\n",
    "file_paths = {\n",
    "    'Benin': Config.CLEAN_DATA_PATH_BENIN,\n",
    "    'Sierra Leone': Config.CLEAN_DATA_PATH_SIERRALONE,\n",
    "    'Togo': Config.CLEAN_DATA_PATH_TOGO\n",
    "}\n",
    "\n",
    "# Step 2: Load and merge datasets\n",
    "loader = CleanedCountryDataLoader(file_paths)\n",
    "loader.load_data()\n",
    "combined_df = loader.get_combined_dataframe()\n",
    "\n",
    "# Step 3: Plot boxplots for solar metrics\n",
    "visualizer = MetricBoxplotVisualizer(combined_df)\n",
    "visualizer.plot_boxplots()\n"
   ]
  },
  {
   "cell_type": "markdown",
   "id": "05459244",
   "metadata": {},
   "source": [
    "Summary Table comparing mean, median, and standard deviation of GHI, DNI, DHI across countries."
   ]
  },
  {
   "cell_type": "code",
   "execution_count": 26,
   "id": "e74c4a2a",
   "metadata": {},
   "outputs": [],
   "source": [
    "class MetricSummaryTableGenerator:\n",
    "    \"\"\"\n",
    "    Generates summary statistics (mean, median, std) for solar metrics by country.\n",
    "    \"\"\"\n",
    "    def __init__(self, df: pd.DataFrame, metrics=('GHI', 'DNI', 'DHI')):\n",
    "        self.df = df\n",
    "        self.metrics = metrics\n",
    "\n",
    "    def compute_summary(self):\n",
    "        \"\"\"\n",
    "        Returns a summary table of mean, median, and std for each metric per country.\n",
    "        \"\"\"\n",
    "        if 'Country' not in self.df.columns:\n",
    "            raise ValueError(\"'Country' column is missing from DataFrame.\")\n",
    "\n",
    "        summary_frames = []\n",
    "\n",
    "        for metric in self.metrics:\n",
    "            if metric not in self.df.columns:\n",
    "                print(f\"Metric '{metric}' not found. Skipping.\")\n",
    "                continue\n",
    "\n",
    "            stats = self.df.groupby('Country')[metric].agg(\n",
    "                Mean='mean',\n",
    "                Median='median',\n",
    "                Std='std'\n",
    "            ).round(2)\n",
    "\n",
    "            stats['Metric'] = metric\n",
    "            summary_frames.append(stats.reset_index())\n",
    "\n",
    "        if not summary_frames:\n",
    "            raise ValueError(\"No metrics processed. Check column names.\")\n",
    "\n",
    "        summary_df = pd.concat(summary_frames, ignore_index=True)\n",
    "        summary_df = summary_df[['Metric', 'Country', 'Mean', 'Median', 'Std']]\n",
    "        return summary_df\n",
    "\n",
    "    def display_summary(self):\n",
    "        \"\"\"\n",
    "        Prints the summary table.\n",
    "        \"\"\"\n",
    "        try:\n",
    "            summary = self.compute_summary()\n",
    "            print(\"Summary Statistics (Mean, Median, Std):\")\n",
    "            display(summary)\n",
    "        except Exception as e:\n",
    "            print(f\"Failed to compute summary: {e}\")\n"
   ]
  },
  {
   "cell_type": "code",
   "execution_count": 27,
   "id": "320a5409",
   "metadata": {},
   "outputs": [
    {
     "name": "stdout",
     "output_type": "stream",
     "text": [
      "Summary Statistics (Mean, Median, Std):\n"
     ]
    },
    {
     "data": {
      "text/html": [
       "<div>\n",
       "<style scoped>\n",
       "    .dataframe tbody tr th:only-of-type {\n",
       "        vertical-align: middle;\n",
       "    }\n",
       "\n",
       "    .dataframe tbody tr th {\n",
       "        vertical-align: top;\n",
       "    }\n",
       "\n",
       "    .dataframe thead th {\n",
       "        text-align: right;\n",
       "    }\n",
       "</style>\n",
       "<table border=\"1\" class=\"dataframe\">\n",
       "  <thead>\n",
       "    <tr style=\"text-align: right;\">\n",
       "      <th></th>\n",
       "      <th>Metric</th>\n",
       "      <th>Country</th>\n",
       "      <th>Mean</th>\n",
       "      <th>Median</th>\n",
       "      <th>Std</th>\n",
       "    </tr>\n",
       "  </thead>\n",
       "  <tbody>\n",
       "    <tr>\n",
       "      <th>0</th>\n",
       "      <td>GHI</td>\n",
       "      <td>Benin</td>\n",
       "      <td>236.23</td>\n",
       "      <td>0.7</td>\n",
       "      <td>328.29</td>\n",
       "    </tr>\n",
       "    <tr>\n",
       "      <th>1</th>\n",
       "      <td>GHI</td>\n",
       "      <td>Sierra Leone</td>\n",
       "      <td>185.00</td>\n",
       "      <td>-0.4</td>\n",
       "      <td>279.02</td>\n",
       "    </tr>\n",
       "    <tr>\n",
       "      <th>2</th>\n",
       "      <td>GHI</td>\n",
       "      <td>Togo</td>\n",
       "      <td>223.86</td>\n",
       "      <td>0.5</td>\n",
       "      <td>317.31</td>\n",
       "    </tr>\n",
       "    <tr>\n",
       "      <th>3</th>\n",
       "      <td>DNI</td>\n",
       "      <td>Benin</td>\n",
       "      <td>166.90</td>\n",
       "      <td>-0.1</td>\n",
       "      <td>262.08</td>\n",
       "    </tr>\n",
       "    <tr>\n",
       "      <th>4</th>\n",
       "      <td>DNI</td>\n",
       "      <td>Sierra Leone</td>\n",
       "      <td>104.13</td>\n",
       "      <td>-0.1</td>\n",
       "      <td>200.95</td>\n",
       "    </tr>\n",
       "    <tr>\n",
       "      <th>5</th>\n",
       "      <td>DNI</td>\n",
       "      <td>Togo</td>\n",
       "      <td>147.98</td>\n",
       "      <td>0.0</td>\n",
       "      <td>247.68</td>\n",
       "    </tr>\n",
       "    <tr>\n",
       "      <th>6</th>\n",
       "      <td>DHI</td>\n",
       "      <td>Benin</td>\n",
       "      <td>111.66</td>\n",
       "      <td>0.5</td>\n",
       "      <td>153.10</td>\n",
       "    </tr>\n",
       "    <tr>\n",
       "      <th>7</th>\n",
       "      <td>DHI</td>\n",
       "      <td>Sierra Leone</td>\n",
       "      <td>108.10</td>\n",
       "      <td>-0.6</td>\n",
       "      <td>153.69</td>\n",
       "    </tr>\n",
       "    <tr>\n",
       "      <th>8</th>\n",
       "      <td>DHI</td>\n",
       "      <td>Togo</td>\n",
       "      <td>112.78</td>\n",
       "      <td>1.5</td>\n",
       "      <td>151.57</td>\n",
       "    </tr>\n",
       "  </tbody>\n",
       "</table>\n",
       "</div>"
      ],
      "text/plain": [
       "  Metric       Country    Mean  Median     Std\n",
       "0    GHI         Benin  236.23     0.7  328.29\n",
       "1    GHI  Sierra Leone  185.00    -0.4  279.02\n",
       "2    GHI          Togo  223.86     0.5  317.31\n",
       "3    DNI         Benin  166.90    -0.1  262.08\n",
       "4    DNI  Sierra Leone  104.13    -0.1  200.95\n",
       "5    DNI          Togo  147.98     0.0  247.68\n",
       "6    DHI         Benin  111.66     0.5  153.10\n",
       "7    DHI  Sierra Leone  108.10    -0.6  153.69\n",
       "8    DHI          Togo  112.78     1.5  151.57"
      ]
     },
     "metadata": {},
     "output_type": "display_data"
    }
   ],
   "source": [
    "# Step 4: Generate and display summary table\n",
    "summary_generator = MetricSummaryTableGenerator(combined_df)\n",
    "summary_generator.display_summary()\n",
    "\n"
   ]
  },
  {
   "cell_type": "markdown",
   "id": "39c703e9",
   "metadata": {},
   "source": [
    "Statistical Testing\n",
    "- Run a one-way ANOVA (or Kruskal–Wallis) on GHI values to assess whether differences between countries are significant.\n",
    "- Briefly note p-values."
   ]
  },
  {
   "cell_type": "code",
   "execution_count": 28,
   "id": "5c827b77",
   "metadata": {},
   "outputs": [],
   "source": [
    "#Statistical Testing class\n",
    "from scipy.stats import f_oneway, kruskal\n",
    "\n",
    "class SolarStatisticalTester:\n",
    "    \"\"\"\n",
    "    Performs statistical testing (ANOVA and Kruskal–Wallis) across countries on selected metrics.\n",
    "    \"\"\"\n",
    "    def __init__(self, df: pd.DataFrame, group_col='Country'):\n",
    "        self.df = df\n",
    "        self.group_col = group_col\n",
    "\n",
    "    def _prepare_groups(self, metric: str):\n",
    "        \"\"\"\n",
    "        Splits the metric values by country.\n",
    "        \"\"\"\n",
    "        if self.group_col not in self.df.columns:\n",
    "            raise ValueError(f\"Missing grouping column '{self.group_col}' in DataFrame.\")\n",
    "        if metric not in self.df.columns:\n",
    "            raise ValueError(f\"Metric '{metric}' not found in DataFrame.\")\n",
    "\n",
    "        grouped = self.df.groupby(self.group_col)[metric].apply(list)\n",
    "        if len(grouped) < 2:\n",
    "            raise ValueError(\"Need at least two groups for statistical testing.\")\n",
    "        return grouped\n",
    "\n",
    "    def run_anova(self, metric: str):\n",
    "        \"\"\"\n",
    "        Runs one-way ANOVA on the metric across countries.\n",
    "        \"\"\"\n",
    "        try:\n",
    "            groups = self._prepare_groups(metric)\n",
    "            stat, p_value = f_oneway(*groups)\n",
    "            print(f\"ANOVA on '{metric}': F-statistic = {stat:.4f}, p-value = {p_value:.4f}\")\n",
    "            return {'method': 'ANOVA', 'stat': stat, 'p_value': p_value}\n",
    "        except Exception as e:\n",
    "            print(f\"ANOVA failed: {e}\")\n",
    "            return None\n",
    "\n",
    "    def run_kruskal(self, metric: str):\n",
    "        \"\"\"\n",
    "        Runs Kruskal-Wallis H-test on the metric across countries (non-parametric).\n",
    "        \"\"\"\n",
    "        try:\n",
    "            groups = self._prepare_groups(metric)\n",
    "            stat, p_value = kruskal(*groups)\n",
    "            print(f\"Kruskal-Wallis on '{metric}': H-statistic = {stat:.4f}, p-value = {p_value:.4f}\")\n",
    "            return {'method': 'Kruskal-Wallis', 'stat': stat, 'p_value': p_value}\n",
    "        except Exception as e:\n",
    "            print(f\"Kruskal-Wallis failed: {e}\")\n",
    "            return None\n"
   ]
  },
  {
   "cell_type": "code",
   "execution_count": 29,
   "id": "0a374a71",
   "metadata": {},
   "outputs": [
    {
     "name": "stdout",
     "output_type": "stream",
     "text": [
      "ANOVA on 'GHI': F-statistic = 3833.1842, p-value = 0.0000\n",
      "Kruskal-Wallis on 'GHI': H-statistic = 6548.5338, p-value = 0.0000\n"
     ]
    }
   ],
   "source": [
    "# Step 5: Statistical Testing on GHI\n",
    "tester = SolarStatisticalTester(combined_df)\n",
    "anova_result = tester.run_anova('GHI')\n",
    "kruskal_result = tester.run_kruskal('GHI')\n"
   ]
  },
  {
   "cell_type": "markdown",
   "id": "b88ca7d6",
   "metadata": {},
   "source": [
    "Interpretation:\n",
    "\n",
    "A p-value < 0.05 suggests statistically significant differences in GHI across the three countries."
   ]
  },
  {
   "cell_type": "markdown",
   "id": "aa9f0c03",
   "metadata": {},
   "source": [
    "Key Observations\n",
    "- A markdown cell with 3 bullet points summarizing what stands out (e.g., “Country X shows highest median GHI but also greatest variability”).\n"
   ]
  },
  {
   "cell_type": "code",
   "execution_count": 30,
   "id": "5c40fead",
   "metadata": {},
   "outputs": [],
   "source": [
    "class SolarInsightsGenerator:\n",
    "    \"\"\"\n",
    "    Generates markdown bullet point insights from summary statistics and test results.\n",
    "    \"\"\"\n",
    "    def __init__(self, summary_stats: pd.DataFrame, test_results: dict):\n",
    "        self.summary_stats = summary_stats\n",
    "        self.test_results = test_results\n",
    "\n",
    "    def _get_top_country(self, metric: str, stat: str):\n",
    "        \"\"\"\n",
    "        Returns the country with the highest value for a given metric and statistic.\n",
    "        \"\"\"\n",
    "        try:\n",
    "            top_country = self.summary_stats.loc[self.summary_stats[(metric, stat)].idxmax()].name\n",
    "            top_value = self.summary_stats[(metric, stat)].max()\n",
    "            return top_country, top_value\n",
    "        except Exception:\n",
    "            return None, None\n",
    "\n",
    "    def _get_most_variable_country(self, metric: str):\n",
    "        \"\"\"\n",
    "        Country with the highest standard deviation in the given metric.\n",
    "        \"\"\"\n",
    "        try:\n",
    "            stds = self.summary_stats[(metric, 'std')]\n",
    "            return stds.idxmax(), stds.max()\n",
    "        except Exception:\n",
    "            return None, None\n",
    "\n",
    "    def generate_observations(self):\n",
    "        \"\"\"\n",
    "        Returns 3 insightful markdown-ready bullet points.\n",
    "        \"\"\"\n",
    "        observations = []\n",
    "\n",
    "        # 1. Highest median GHI\n",
    "        ghi_median_country, ghi_median_val = self._get_top_country('GHI', 'median')\n",
    "        if ghi_median_country:\n",
    "            observations.append(f\"- **{ghi_median_country}** has the highest **median GHI** ({ghi_median_val:.2f} W/m²), indicating strong solar potential.\")\n",
    "\n",
    "        # 2. Most variable GHI\n",
    "        ghi_var_country, ghi_std_val = self._get_most_variable_country('GHI')\n",
    "        if ghi_var_country:\n",
    "            observations.append(f\"- **{ghi_var_country}** exhibits the **greatest variability** in GHI (std = {ghi_std_val:.2f}), suggesting fluctuations in solar availability.\")\n",
    "\n",
    "        # 3. Statistical test result\n",
    "        if self.test_results.get(\"anova\") and self.test_results[\"anova\"][\"p_value\"] < 0.05:\n",
    "            observations.append(\"- Differences in **GHI** between countries are **statistically significant** (ANOVA p = \"\n",
    "                                f\"{self.test_results['anova']['p_value']:.4f}).\")\n",
    "        elif self.test_results.get(\"kruskal\") and self.test_results[\"kruskal\"][\"p_value\"] < 0.05:\n",
    "            observations.append(\"- Differences in **GHI** between countries are **statistically significant** (Kruskal–Wallis p = \"\n",
    "                                f\"{self.test_results['kruskal']['p_value']:.4f}).\")\n",
    "        else:\n",
    "            observations.append(\"- No statistically significant difference in GHI between countries.\")\n",
    "\n",
    "        return observations\n"
   ]
  },
  {
   "cell_type": "code",
   "execution_count": 31,
   "id": "647fd882",
   "metadata": {},
   "outputs": [
    {
     "data": {
      "text/markdown": [
       "### 🔍 Key Observations"
      ],
      "text/plain": [
       "<IPython.core.display.Markdown object>"
      ]
     },
     "metadata": {},
     "output_type": "display_data"
    },
    {
     "data": {
      "text/markdown": [
       "- Differences in **GHI** between countries are **statistically significant** (ANOVA p = 0.0000)."
      ],
      "text/plain": [
       "<IPython.core.display.Markdown object>"
      ]
     },
     "metadata": {},
     "output_type": "display_data"
    }
   ],
   "source": [
    "# Step 6: Generate Key Observations\n",
    "# Compute summary statistics\n",
    "summary_stats = summary_generator.compute_summary()\n",
    "\n",
    "test_results = {\n",
    "    \"anova\": anova_result,\n",
    "    \"kruskal\": kruskal_result\n",
    "}\n",
    "\n",
    "insights = SolarInsightsGenerator(summary_stats, test_results)\n",
    "observation_bullets = insights.generate_observations()\n",
    "\n",
    "# Display as Markdown\n",
    "from IPython.display import Markdown, display\n",
    "\n",
    "display(Markdown(\"### 🔍 Key Observations\"))\n",
    "for bullet in observation_bullets:\n",
    "    display(Markdown(bullet))\n"
   ]
  },
  {
   "cell_type": "markdown",
   "id": "f57ffbb9",
   "metadata": {},
   "source": [
    "Visual Summary\n",
    "- A small bar chart ranking countries by average GHI.\n"
   ]
  },
  {
   "cell_type": "code",
   "execution_count": 36,
   "id": "df4514f3",
   "metadata": {},
   "outputs": [],
   "source": [
    "class SolarVisualizer:\n",
    "    \"\"\"\n",
    "    Provides summary visualizations for solar metric comparisons across countries.\n",
    "    \"\"\"\n",
    "\n",
    "    def __init__(self, summary_stats: pd.DataFrame):\n",
    "        self.summary_stats = summary_stats\n",
    "\n",
    "    def plot_average_ghi_bar_chart(self):\n",
    "        try:\n",
    "            # Filter for GHI metric only\n",
    "            ghi_stats = self.summary_stats[self.summary_stats['Metric'] == 'GHI']\n",
    "\n",
    "            # Sort by Mean descending\n",
    "            ghi_stats_sorted = ghi_stats.sort_values(\n",
    "                by='Mean', ascending=False)\n",
    "\n",
    "            # Plot\n",
    "            plt.figure(figsize=(8, 5))\n",
    "            sns.barplot(x='Country', y='Mean',\n",
    "                        data=ghi_stats_sorted, palette=\"YlOrBr\")\n",
    "            plt.title(\"Average GHI by Country\")\n",
    "            plt.ylabel(\"Average GHI\")\n",
    "            plt.xlabel(\"Country\")\n",
    "            plt.tight_layout()\n",
    "            plt.show()\n",
    "        except Exception as e:\n",
    "            print(f\"Error generating average GHI bar chart: {e}\")"
   ]
  },
  {
   "cell_type": "code",
   "execution_count": 37,
   "id": "694b87eb",
   "metadata": {},
   "outputs": [
    {
     "name": "stdout",
     "output_type": "stream",
     "text": [
      "  Metric       Country    Mean  Median     Std\n",
      "0    GHI         Benin  236.23     0.7  328.29\n",
      "1    GHI  Sierra Leone  185.00    -0.4  279.02\n",
      "2    GHI          Togo  223.86     0.5  317.31\n",
      "3    DNI         Benin  166.90    -0.1  262.08\n",
      "4    DNI  Sierra Leone  104.13    -0.1  200.95\n",
      "5    DNI          Togo  147.98     0.0  247.68\n",
      "6    DHI         Benin  111.66     0.5  153.10\n",
      "7    DHI  Sierra Leone  108.10    -0.6  153.69\n",
      "8    DHI          Togo  112.78     1.5  151.57\n"
     ]
    },
    {
     "name": "stderr",
     "output_type": "stream",
     "text": [
      "/tmp/ipykernel_7582/1634828905.py:20: FutureWarning: \n",
      "\n",
      "Passing `palette` without assigning `hue` is deprecated and will be removed in v0.14.0. Assign the `x` variable to `hue` and set `legend=False` for the same effect.\n",
      "\n",
      "  sns.barplot(x='Country', y='Mean',\n"
     ]
    },
    {
     "data": {
      "image/png": "[encoded data removed]",
      "text/plain": [
       "<Figure size 800x500 with 1 Axes>"
      ]
     },
     "metadata": {},
     "output_type": "display_data"
    }
   ],
   "source": [
    "# Use the existing summary_generator to compute summary statistics\n",
    "summary_stats = summary_generator.compute_summary()\n",
    "print(summary_stats)\n",
    "# Initialize visualizer with summary stats\n",
    "visualizer = SolarVisualizer(summary_stats)\n",
    "\n",
    "# Plot average GHI bar chart\n",
    "visualizer.plot_average_ghi_bar_chart()"
   ]
  }
 ],
 "metadata": {
  "kernelspec": {
   "display_name": "venv",
   "language": "python",
   "name": "python3"
  },
  "language_info": {
   "codemirror_mode": {
    "name": "ipython",
    "version": 3
   },
   "file_extension": ".py",
   "mimetype": "text/x-python",
   "name": "python",
   "nbconvert_exporter": "python",
   "pygments_lexer": "ipython3",
   "version": "3.10.12"
  }
 },
 "nbformat": 4,
 "nbformat_minor": 5
}
